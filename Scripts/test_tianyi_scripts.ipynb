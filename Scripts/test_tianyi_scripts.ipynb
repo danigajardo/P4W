{
 "cells": [
  {
   "cell_type": "code",
   "execution_count": 1,
   "id": "continuous-making",
   "metadata": {},
   "outputs": [],
   "source": [
    "import pandas as pd"
   ]
  },
  {
   "cell_type": "code",
   "execution_count": 2,
   "id": "compatible-tradition",
   "metadata": {},
   "outputs": [],
   "source": [
    "pd.set_option('display.max_columns', 999)\n",
    "cols = ['Generation', 'Precipitation_decon', 'Air_Temperature',\n",
    "        'Efficiency',\n",
    "        # 'Turbines',\n",
    "        # 'Construction'\n",
    "        ]"
   ]
  },
  {
   "cell_type": "code",
   "execution_count": 3,
   "id": "marked-bradley",
   "metadata": {},
   "outputs": [],
   "source": [
    "losses = [\n",
    "'mse',\n",
    "# 'msle',\n",
    "# 'mse',\n",
    "# 'mse',\n",
    "# 'msle',\n",
    "# 'mse',\n",
    "# 'msle',\n",
    "]\n",
    "\n",
    "optimizers = [\n",
    "'RMSProp',\n",
    "# 'RMSProp',\n",
    "# 'adam',\n",
    "# 'nadam',\n",
    "# 'nadam',\n",
    "# 'Adamax',\n",
    "# 'Adamax',\n",
    "]\n",
    "\n",
    "# We are training a model with monthly data, so a 'look_back=11' means that, if we are estimating power generation\n",
    "# in Dec 2020, we will be using 12-month of prep. and temp. data from Jan 2020 through Dec 2020. Note that, we are\n",
    "# developing a regression model, so when estimating generation in Dec 2020, it is OK for us to use climate data for\n",
    "# the same month. However, if we are developing a prediction model, then it would make more sense to only use climate\n",
    "# and generation data for the previous months (that way you are really predicting things).\n",
    "look_backs = [11]\n",
    "batch_sizes = [60]"
   ]
  },
  {
   "cell_type": "code",
   "execution_count": 4,
   "id": "portable-prompt",
   "metadata": {},
   "outputs": [
    {
     "name": "stdout",
     "output_type": "stream",
     "text": [
      "0.8\n"
     ]
    }
   ],
   "source": [
    "for tr in [0.8]:\n",
    "    print(tr)"
   ]
  }
 ],
 "metadata": {
  "kernelspec": {
   "display_name": "Python 3",
   "language": "python",
   "name": "python3"
  },
  "language_info": {
   "codemirror_mode": {
    "name": "ipython",
    "version": 3
   },
   "file_extension": ".py",
   "mimetype": "text/x-python",
   "name": "python",
   "nbconvert_exporter": "python",
   "pygments_lexer": "ipython3",
   "version": "3.8.5"
  }
 },
 "nbformat": 4,
 "nbformat_minor": 5
}
